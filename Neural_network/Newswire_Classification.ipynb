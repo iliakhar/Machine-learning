{
 "cells": [
  {
   "cell_type": "code",
   "execution_count": 1,
   "outputs": [
    {
     "data": {
      "text/plain": "'2.14.0'"
     },
     "execution_count": 1,
     "metadata": {},
     "output_type": "execute_result"
    }
   ],
   "source": [
    "import keras\n",
    "keras.__version__"
   ],
   "metadata": {
    "collapsed": false,
    "ExecuteTime": {
     "end_time": "2023-10-21T10:34:50.133496600Z",
     "start_time": "2023-10-21T10:34:46.690696200Z"
    }
   },
   "id": "887b04dde8b85394"
  },
  {
   "cell_type": "code",
   "execution_count": 2,
   "outputs": [],
   "source": [
    "from keras.datasets import reuters\n",
    "\n",
    "(train_data, train_labels), (test_data, test_labels) =reuters.load_data(num_words=10000)"
   ],
   "metadata": {
    "collapsed": false,
    "ExecuteTime": {
     "end_time": "2023-10-21T10:35:48.592724800Z",
     "start_time": "2023-10-21T10:35:48.046531500Z"
    }
   },
   "id": "92d9ac9a0b487024"
  },
  {
   "cell_type": "code",
   "execution_count": 3,
   "outputs": [
    {
     "data": {
      "text/plain": "8982"
     },
     "execution_count": 3,
     "metadata": {},
     "output_type": "execute_result"
    }
   ],
   "source": [
    "len(train_data)"
   ],
   "metadata": {
    "collapsed": false,
    "ExecuteTime": {
     "end_time": "2023-10-21T10:36:01.218668700Z",
     "start_time": "2023-10-21T10:36:01.164326200Z"
    }
   },
   "id": "44d6f8c4aa9bd58"
  },
  {
   "cell_type": "code",
   "execution_count": 4,
   "outputs": [
    {
     "data": {
      "text/plain": "2246"
     },
     "execution_count": 4,
     "metadata": {},
     "output_type": "execute_result"
    }
   ],
   "source": [
    "len(test_data)"
   ],
   "metadata": {
    "collapsed": false,
    "ExecuteTime": {
     "end_time": "2023-10-21T10:36:07.493137Z",
     "start_time": "2023-10-21T10:36:07.445879900Z"
    }
   },
   "id": "e5112a8c3d561a90"
  },
  {
   "cell_type": "code",
   "execution_count": 5,
   "outputs": [
    {
     "data": {
      "text/plain": "[1,\n 245,\n 273,\n 207,\n 156,\n 53,\n 74,\n 160,\n 26,\n 14,\n 46,\n 296,\n 26,\n 39,\n 74,\n 2979,\n 3554,\n 14,\n 46,\n 4689,\n 4329,\n 86,\n 61,\n 3499,\n 4795,\n 14,\n 61,\n 451,\n 4329,\n 17,\n 12]"
     },
     "execution_count": 5,
     "metadata": {},
     "output_type": "execute_result"
    }
   ],
   "source": [
    "train_data[10]"
   ],
   "metadata": {
    "collapsed": false,
    "ExecuteTime": {
     "end_time": "2023-10-21T10:36:18.082297500Z",
     "start_time": "2023-10-21T10:36:18.066080800Z"
    }
   },
   "id": "86af0da8a1d9ac94"
  },
  {
   "cell_type": "code",
   "execution_count": 9,
   "outputs": [
    {
     "name": "stdout",
     "output_type": "stream",
     "text": [
      "? ? ? said as a result of its december acquisition of space co it expects earnings per share in 1987 of 1 15 to 1 30 dlrs per share up from 70 cts in 1986 the company said pretax net should rise to nine to 10 mln dlrs from six mln dlrs in 1986 and rental operation revenues to 19 to 22 mln dlrs from 12 5 mln dlrs it said cash flow per share this year should be 2 50 to three dlrs reuter 3\n"
     ]
    }
   ],
   "source": [
    "word_index: dict = reuters.get_word_index()\n",
    "reverse_word_index = dict([(value, key) for (key, value) in word_index.items()])\n",
    "decode_newswire = ' '.join([reverse_word_index.get(i - 3, '?') for i in train_data[0]])\n",
    "print(decode_newswire)"
   ],
   "metadata": {
    "collapsed": false,
    "ExecuteTime": {
     "end_time": "2023-10-21T10:39:24.311478800Z",
     "start_time": "2023-10-21T10:39:24.256982500Z"
    }
   },
   "id": "ea0690219cd6713c"
  },
  {
   "cell_type": "code",
   "execution_count": 10,
   "outputs": [
    {
     "data": {
      "text/plain": "3"
     },
     "execution_count": 10,
     "metadata": {},
     "output_type": "execute_result"
    }
   ],
   "source": [
    "train_labels[10]"
   ],
   "metadata": {
    "collapsed": false,
    "ExecuteTime": {
     "end_time": "2023-10-21T10:39:45.796352500Z",
     "start_time": "2023-10-21T10:39:45.768352600Z"
    }
   },
   "id": "1d2e315a3f1ae210"
  },
  {
   "cell_type": "code",
   "execution_count": 15,
   "outputs": [],
   "source": [
    "import numpy as np\n",
    "\n",
    "def vectorize_sequences(sequences, dimenstion=10000):\n",
    "    results = np.zeros((len(sequences), dimenstion))\n",
    "    for i, sequence in enumerate(sequences):\n",
    "        results[i, sequence] = 1.\n",
    "    return results"
   ],
   "metadata": {
    "collapsed": false,
    "ExecuteTime": {
     "end_time": "2023-10-21T10:42:36.102509500Z",
     "start_time": "2023-10-21T10:42:36.082512200Z"
    }
   },
   "id": "e1df5a6c1e2273be"
  },
  {
   "cell_type": "code",
   "execution_count": 17,
   "outputs": [],
   "source": [
    "x_train = vectorize_sequences(train_data)\n",
    "x_test = vectorize_sequences(test_data)"
   ],
   "metadata": {
    "collapsed": false,
    "ExecuteTime": {
     "end_time": "2023-10-21T10:42:40.047843100Z",
     "start_time": "2023-10-21T10:42:39.147487700Z"
    }
   },
   "id": "db17a98041729ab6"
  },
  {
   "cell_type": "code",
   "execution_count": 18,
   "outputs": [],
   "source": [
    "from keras.utils import to_categorical\n",
    "one_hot_train_labels = to_categorical(train_labels)\n",
    "one_hot_test_labels = to_categorical(test_labels)"
   ],
   "metadata": {
    "collapsed": false,
    "ExecuteTime": {
     "end_time": "2023-10-21T10:43:55.926845500Z",
     "start_time": "2023-10-21T10:43:55.883747600Z"
    }
   },
   "id": "e73f2d2e33d9bd88"
  },
  {
   "cell_type": "code",
   "execution_count": 167,
   "outputs": [],
   "source": [
    "from keras import models, layers\n",
    "actReg = keras.layers.ActivityRegularization(\n",
    "    input_shape=(10000,), l1=4.0, l2=6.0)\n",
    "model = models.Sequential()\n",
    "model.add(actReg)\n",
    "model.add(layers.Dense(64, activation='relu'))\n",
    "model.add(layers.Dense(64, activation='relu'))\n",
    "model.add(layers.Dense(128, activation='relu'))\n",
    "model.add(layers.Dense(46, activation='softmax'))"
   ],
   "metadata": {
    "collapsed": false,
    "ExecuteTime": {
     "end_time": "2023-10-21T11:22:07.447626900Z",
     "start_time": "2023-10-21T11:22:07.328646Z"
    }
   },
   "id": "4e1f4a49f5f03e0"
  },
  {
   "cell_type": "code",
   "execution_count": 168,
   "outputs": [],
   "source": [
    "model.compile(optimizer='rmsprop', \n",
    "              loss='categorical_crossentropy',\n",
    "              metrics=['accuracy'])\n"
   ],
   "metadata": {
    "collapsed": false,
    "ExecuteTime": {
     "end_time": "2023-10-21T11:22:07.648075300Z",
     "start_time": "2023-10-21T11:22:07.629061300Z"
    }
   },
   "id": "1d22701e8d4f1734"
  },
  {
   "cell_type": "code",
   "execution_count": 169,
   "outputs": [],
   "source": [
    "x_val = x_train[:1000]\n",
    "partial_x_train = x_train[1000:]\n",
    "y_val = one_hot_train_labels[:1000]\n",
    "partial_y_train = one_hot_train_labels[1000:]"
   ],
   "metadata": {
    "collapsed": false,
    "ExecuteTime": {
     "end_time": "2023-10-21T11:22:07.927658700Z",
     "start_time": "2023-10-21T11:22:07.900231900Z"
    }
   },
   "id": "ac5ec85a4eb77e83"
  },
  {
   "cell_type": "code",
   "execution_count": 170,
   "outputs": [
    {
     "name": "stdout",
     "output_type": "stream",
     "text": [
      "Epoch 1/9\n",
      "63/63 [==============================] - 1s 12ms/step - loss: 817.5926 - accuracy: 0.6017 - val_loss: 825.0411 - val_accuracy: 0.7040\n",
      "Epoch 2/9\n",
      "63/63 [==============================] - 1s 10ms/step - loss: 816.7773 - accuracy: 0.7725 - val_loss: 824.8388 - val_accuracy: 0.7460\n",
      "Epoch 3/9\n",
      "63/63 [==============================] - 1s 11ms/step - loss: 816.4386 - accuracy: 0.8468 - val_loss: 824.7856 - val_accuracy: 0.7740\n",
      "Epoch 4/9\n",
      "63/63 [==============================] - 1s 12ms/step - loss: 816.2295 - accuracy: 0.8970 - val_loss: 824.6819 - val_accuracy: 0.7980\n",
      "Epoch 5/9\n",
      "63/63 [==============================] - 1s 13ms/step - loss: 816.0916 - accuracy: 0.9270 - val_loss: 824.7650 - val_accuracy: 0.7900\n",
      "Epoch 6/9\n",
      "63/63 [==============================] - 1s 11ms/step - loss: 816.0239 - accuracy: 0.9404 - val_loss: 824.7006 - val_accuracy: 0.8140\n",
      "Epoch 7/9\n",
      "63/63 [==============================] - 1s 12ms/step - loss: 815.9807 - accuracy: 0.9473 - val_loss: 824.7211 - val_accuracy: 0.8030\n",
      "Epoch 8/9\n",
      "63/63 [==============================] - 1s 12ms/step - loss: 815.9496 - accuracy: 0.9500 - val_loss: 824.7989 - val_accuracy: 0.7840\n",
      "Epoch 9/9\n",
      "63/63 [==============================] - 1s 12ms/step - loss: 815.9253 - accuracy: 0.9546 - val_loss: 824.8969 - val_accuracy: 0.7840\n"
     ]
    }
   ],
   "source": [
    "history = model.fit(partial_x_train, partial_y_train, epochs=9,\n",
    "                    batch_size=128,\n",
    "                    validation_data=(x_val, y_val))"
   ],
   "metadata": {
    "collapsed": false,
    "ExecuteTime": {
     "end_time": "2023-10-21T11:22:15.789466500Z",
     "start_time": "2023-10-21T11:22:08.238976700Z"
    }
   },
   "id": "cdd3ab0c5b6bcdf7"
  },
  {
   "cell_type": "code",
   "execution_count": 173,
   "outputs": [
    {
     "name": "stdout",
     "output_type": "stream",
     "text": [
      "71/71 [==============================] - 0s 2ms/step\n"
     ]
    }
   ],
   "source": [
    "predictions = model.predict(x_test)"
   ],
   "metadata": {
    "collapsed": false,
    "ExecuteTime": {
     "end_time": "2023-10-21T11:22:16.371889500Z",
     "start_time": "2023-10-21T11:22:16.058466700Z"
    }
   },
   "id": "11883793bc6bb71b"
  },
  {
   "cell_type": "code",
   "execution_count": 177,
   "outputs": [
    {
     "name": "stdout",
     "output_type": "stream",
     "text": [
      "true prediction: 77.51558325912734%\n"
     ]
    }
   ],
   "source": [
    "sum = 0\n",
    "for i in range(len(predictions)):\n",
    "    if np.argmax(predictions[i]) == test_labels[i]:\n",
    "        sum +=1\n",
    "sum = sum / len(predictions) * 100\n",
    "print(f\"true prediction: {sum}%\")"
   ],
   "metadata": {
    "collapsed": false,
    "ExecuteTime": {
     "end_time": "2023-10-21T11:30:42.586982800Z",
     "start_time": "2023-10-21T11:30:42.562690400Z"
    }
   },
   "id": "2147d3d4ea0d11a5"
  },
  {
   "cell_type": "code",
   "execution_count": null,
   "outputs": [],
   "source": [],
   "metadata": {
    "collapsed": false
   },
   "id": "1c2155460532f785"
  }
 ],
 "metadata": {
  "kernelspec": {
   "display_name": "Python 3",
   "language": "python",
   "name": "python3"
  },
  "language_info": {
   "codemirror_mode": {
    "name": "ipython",
    "version": 2
   },
   "file_extension": ".py",
   "mimetype": "text/x-python",
   "name": "python",
   "nbconvert_exporter": "python",
   "pygments_lexer": "ipython2",
   "version": "2.7.6"
  }
 },
 "nbformat": 4,
 "nbformat_minor": 5
}
